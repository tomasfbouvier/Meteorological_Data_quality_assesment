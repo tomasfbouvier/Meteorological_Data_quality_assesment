{
 "cells": [
  {
   "cell_type": "code",
   "execution_count": 1,
   "id": "a3711ddd",
   "metadata": {},
   "outputs": [
    {
     "name": "stdout",
     "output_type": "stream",
     "text": [
      " benchmark.py\t\t     helper_functions_titanlib.py   README.md\r\n",
      " create_sets.py\t\t    \"my_titanlib'.py\"\t\t    SCT.py\r\n",
      " data\t\t\t     my_titanlib.py\t\t    TCT.py\r\n",
      " data1.tar.bz2\t\t     optimizer.py\t\t    titanlib_test.ipynb\r\n",
      " df.py\t\t\t     pressure_check.ipynb\r\n",
      " helper_functions_titanlib   __pycache__\r\n"
     ]
    }
   ],
   "source": [
    "!ls"
   ]
  },
  {
   "cell_type": "code",
   "execution_count": 2,
   "id": "d0dbdf77",
   "metadata": {},
   "outputs": [
    {
     "name": "stdout",
     "output_type": "stream",
     "text": [
      "       station           timestamp     min      max            file_type\n",
      "0       4201.0 1997-06-10 00:00:00  1008.7  1012.45  data/data1/combined\n",
      "1       4201.0 1997-06-10 01:00:00  1009.0  1012.76  data/data1/combined\n",
      "2       4201.0 1997-06-10 02:00:00  1009.2  1012.96  data/data1/combined\n",
      "3       4201.0 1997-06-10 03:00:00  1009.2  1012.98  data/data1/combined\n",
      "4       4201.0 1997-06-10 04:00:00  1009.5  1013.28  data/data1/combined\n",
      "...        ...                 ...     ...      ...                  ...\n",
      "67628   6193.0 1997-06-28 09:00:00  1007.3  1008.60  data/data1/combined\n",
      "67629   6193.0 1997-06-28 12:00:00  1008.3  1009.60  data/data1/combined\n",
      "67630   6193.0 1997-06-28 15:00:00  1010.1  1011.40  data/data1/combined\n",
      "67631   6193.0 1997-06-28 18:00:00  1011.4  1012.70  data/data1/combined\n",
      "67632   6193.0 1997-06-28 21:00:00  1012.6  1013.90  data/data1/combined\n",
      "\n",
      "[67633 rows x 5 columns]\n"
     ]
    }
   ],
   "source": [
    "import os\n",
    "import numpy as np\n",
    "import pandas as pd\n",
    "from df import df\n",
    "import titanlib\n",
    "\n",
    "print(df)\n",
    "\n"
   ]
  },
  {
   "cell_type": "code",
   "execution_count": 3,
   "id": "4e22f600",
   "metadata": {},
   "outputs": [],
   "source": [
    "from scipy.interpolate import interp1d\n",
    "from create_sets import create_sets\n",
    "import datetime"
   ]
  },
  {
   "cell_type": "code",
   "execution_count": 4,
   "id": "405ed32e",
   "metadata": {},
   "outputs": [
    {
     "name": "stdout",
     "output_type": "stream",
     "text": [
      "78\n",
      "[1016.8584789555465, 1013.7105985811487, 1013.3258071818079, 1013.8258183354343, 1016.2139020528015, 1013.418747497367, 1013.9378200143997, 1011.7560945994097, 1010.691492151349, 1010.593998164911, 1009.9595200545817, 1011.9629401083556, 1011.530177717895, 1010.1156624869159, 1013.520504768677, 1012.9594893283489, 1011.7262383323998, 1011.31791031352, 1010.3163567070204, 1011.5501408664828, 1014.1947088649096, 1014.5810952619219, 1014.5948119273227, 1015.9692174763767, 1013.5196344200025, 1013.8806130713208, 1016.4832238304982, 1019.6261066328088, 1020.2903119521837, 1018.1017911899947, 1016.9127493979073, 1017.8434073328982, 1020.9227278594968, 1017.8201903166822, 1016.6985924503048, 1017.6382211610938, 1017.1683344782239, 1016.9488605655786, 1015.6936983080875, 1015.1470670834317, 1014.9899873715475, 1014.752295243229, 1014.0471724444285, 1014.0818337530911, 1016.9144092110103, 1017.4139279630776, 1015.427260004384, 1014.9020890246439, 1014.8013693982508, 1014.7577570168112, 1014.3180740745427, 1017.7153845340532, 1017.5294265526043, 1016.3469512709036, 1015.575049532461, 1015.5699666289457, 1016.1903156230997, 1016.1526833146829, 1016.0409882875754, 1015.1017220644292, 1015.6062683596624, 1015.5409030793729, 1015.5956710488106, 1014.2440695340938, 1015.1183065611315, 1014.7071542557741, 1014.8153922013272, 1014.0773568910382, 1014.4639410623289, 1013.7012990394069, 1013.8302893930022, 1014.2750426241626, 1013.7011325520258, 1013.7750564644138, 1012.8955200934715, 1014.133877524823, 1013.0432785416886, 1013.2372249529597]\n"
     ]
    },
    {
     "ename": "NameError",
     "evalue": "name 'radius' is not defined",
     "output_type": "error",
     "traceback": [
      "\u001b[0;31m---------------------------------------------------------------------------\u001b[0m",
      "\u001b[0;31mNameError\u001b[0m                                 Traceback (most recent call last)",
      "\u001b[0;32m/tmp/ipykernel_60414/3252379568.py\u001b[0m in \u001b[0;36m<module>\u001b[0;34m\u001b[0m\n\u001b[1;32m     16\u001b[0m \u001b[0mvalues\u001b[0m\u001b[0;34m[\u001b[0m\u001b[0;36m0\u001b[0m\u001b[0;34m]\u001b[0m\u001b[0;34m+=\u001b[0m\u001b[0;36m2\u001b[0m\u001b[0;34m\u001b[0m\u001b[0;34m\u001b[0m\u001b[0m\n\u001b[1;32m     17\u001b[0m \u001b[0mprint\u001b[0m\u001b[0;34m(\u001b[0m\u001b[0mvalues\u001b[0m\u001b[0;34m)\u001b[0m\u001b[0;34m\u001b[0m\u001b[0;34m\u001b[0m\u001b[0m\n\u001b[0;32m---> 18\u001b[0;31m \u001b[0mflags\u001b[0m \u001b[0;34m=\u001b[0m \u001b[0mtitanlib\u001b[0m\u001b[0;34m.\u001b[0m\u001b[0mbuddy_check\u001b[0m\u001b[0;34m(\u001b[0m\u001b[0mpoints\u001b[0m\u001b[0;34m,\u001b[0m \u001b[0mvalues\u001b[0m\u001b[0;34m,\u001b[0m  \u001b[0mradius\u001b[0m \u001b[0;34m,\u001b[0m\u001b[0mnum_min\u001b[0m\u001b[0;34m,\u001b[0m\u001b[0mthreshold\u001b[0m\u001b[0;34m,\u001b[0m \u001b[0mmax_elev_diff\u001b[0m\u001b[0;34m,\u001b[0m \u001b[0melev_gradient\u001b[0m\u001b[0;34m,\u001b[0m \u001b[0mmin_std\u001b[0m\u001b[0;34m,\u001b[0m \u001b[0mnum_iterations\u001b[0m\u001b[0;34m,\u001b[0m\u001b[0mobs_to_check\u001b[0m\u001b[0;34m)\u001b[0m\u001b[0;34m\u001b[0m\u001b[0;34m\u001b[0m\u001b[0m\n\u001b[0m\u001b[1;32m     19\u001b[0m \u001b[0;34m\u001b[0m\u001b[0m\n\u001b[1;32m     20\u001b[0m \u001b[0mprint\u001b[0m\u001b[0;34m(\u001b[0m\u001b[0mflags\u001b[0m\u001b[0;34m)\u001b[0m\u001b[0;34m\u001b[0m\u001b[0;34m\u001b[0m\u001b[0m\n",
      "\u001b[0;31mNameError\u001b[0m: name 'radius' is not defined"
     ]
    }
   ],
   "source": [
    "from helper_functions_titanlib import prepare_test\n",
    "x0= datetime.datetime(1997, 6,17, 17,30)\n",
    "\n",
    "\n",
    "time_stamp=x0.timestamp()*1E9\n",
    "\n",
    "fs, points, obs_to_check = prepare_test(6096)\n",
    "\n",
    "values=[]\n",
    "for f in fs:\n",
    "    values.append(f(time_stamp).tolist())\n",
    "\n",
    "print(len(fs))\n",
    "\n",
    "#flags = titanlib.buddy_check(points, values,  [1],[2],2,200,0,1,2)\n",
    "values[0]+=2\n",
    "print(values)\n",
    "flags = titanlib.buddy_check(points, values,  radius ,num_min,threshold, max_elev_diff, elev_gradient, min_std, num_iterations,obs_to_check)\n",
    "\n",
    "print(flags)"
   ]
  },
  {
   "cell_type": "code",
   "execution_count": null,
   "id": "627d5769",
   "metadata": {
    "scrolled": true
   },
   "outputs": [],
   "source": [
    "import matplotlib.pyplot as plt\n",
    "import time\n",
    "import titanlib\n",
    "import datetime\n",
    "\n",
    "threshold = 2 # TO BE OPTIMIZED\n",
    "max_elev_diff = -1 #200\n",
    "elev_gradient = -0.0065\n",
    "min_std = 1 # TO BE OPTIMIZED\n",
    "radius= [90000] # TO BE OPTIMIZED\n",
    "num_min=[4] # TO BE OPTIMIZED ?\n",
    "num_iterations = 50\n",
    "obs_to_check= [1,0,0,0,0,0,0,0]\n",
    "\n",
    "plt.figure(figsize=(20,3))\n",
    "\n",
    "xs, _ = create_sets(6096)\n",
    "\n",
    "fs, points, obs_to_check= prepare_test(6096)\n",
    "values=[]\n",
    "\n",
    "obs_to_check=lst = [1]+[0] * (len(fs)-1)\n",
    "\n",
    "for x in xs:\n",
    "    values=[]\n",
    "    for f in fs:\n",
    "        values.append(f(x).tolist())\n",
    "    \n",
    "    flags=titanlib.buddy_check(points, values,  radius ,num_min,threshold, max_elev_diff, elev_gradient, min_std, num_iterations,obs_to_check)\n",
    "    if(flags[0]==1):\n",
    "        plt.plot(x, values[0], 'r.')\n",
    "    else:\n",
    "        plt.plot(x, values[0], 'b.')"
   ]
  },
  {
   "cell_type": "code",
   "execution_count": null,
   "id": "735ab6af",
   "metadata": {},
   "outputs": [],
   "source": [
    "from benchmark import calculate_acc\n",
    "\n",
    "from my_titanlib import my_SCT, my_buddy_check"
   ]
  },
  {
   "cell_type": "code",
   "execution_count": null,
   "id": "3985942c",
   "metadata": {
    "scrolled": true
   },
   "outputs": [],
   "source": [
    "xs, f = create_sets(6096)\n",
    "\n",
    "t1=time.time()\n",
    "acc= calculate_acc(xs, f, my_SCT(6096),[2,4,50000, 150000], std=3.,n_trials=1000)\n",
    "print(time.time()-t1)\n",
    "#TODO: Optimize the parameters\n",
    "\n",
    "\n",
    "\n",
    "\n",
    "\n",
    "print(acc)"
   ]
  },
  {
   "cell_type": "code",
   "execution_count": null,
   "id": "db90f16a",
   "metadata": {},
   "outputs": [],
   "source": [
    "!pip install bayesian-optimization"
   ]
  },
  {
   "cell_type": "code",
   "execution_count": null,
   "id": "04acc478",
   "metadata": {},
   "outputs": [
    {
     "name": "stdout",
     "output_type": "stream",
     "text": [
      "|   iter    |  target   |    p0     |\n",
      "-------------------------------------\n",
      "| \u001b[0m 1       \u001b[0m | \u001b[0m 0.5     \u001b[0m | \u001b[0m 0.417   \u001b[0m |\n",
      "| \u001b[0m 2       \u001b[0m | \u001b[0m 0.5     \u001b[0m | \u001b[0m 0.7203  \u001b[0m |\n",
      "| \u001b[95m 3       \u001b[0m | \u001b[95m 0.503   \u001b[0m | \u001b[95m 0.000114\u001b[0m |\n",
      "| \u001b[0m 4       \u001b[0m | \u001b[0m 0.5     \u001b[0m | \u001b[0m 0.3023  \u001b[0m |\n",
      "| \u001b[95m 5       \u001b[0m | \u001b[95m 0.689   \u001b[0m | \u001b[95m 0.1468  \u001b[0m |\n",
      "| \u001b[95m 6       \u001b[0m | \u001b[95m 0.823   \u001b[0m | \u001b[95m 0.09234 \u001b[0m |\n",
      "| \u001b[0m 7       \u001b[0m | \u001b[0m 0.5     \u001b[0m | \u001b[0m 0.1863  \u001b[0m |\n",
      "| \u001b[0m 8       \u001b[0m | \u001b[0m 0.5     \u001b[0m | \u001b[0m 0.3456  \u001b[0m |\n",
      "| \u001b[0m 9       \u001b[0m | \u001b[0m 0.5     \u001b[0m | \u001b[0m 0.3968  \u001b[0m |\n",
      "| \u001b[0m 10      \u001b[0m | \u001b[0m 0.5     \u001b[0m | \u001b[0m 0.5388  \u001b[0m |\n",
      "| \u001b[95m 11      \u001b[0m | \u001b[95m 0.855   \u001b[0m | \u001b[95m 0.1105  \u001b[0m |\n",
      "| \u001b[95m 12      \u001b[0m | \u001b[95m 0.865   \u001b[0m | \u001b[95m 0.1048  \u001b[0m |\n",
      "| \u001b[0m 13      \u001b[0m | \u001b[0m 0.85    \u001b[0m | \u001b[0m 0.1023  \u001b[0m |\n",
      "| \u001b[0m 14      \u001b[0m | \u001b[0m 0.664   \u001b[0m | \u001b[0m 0.06524 \u001b[0m |\n",
      "| \u001b[0m 15      \u001b[0m | \u001b[0m 0.851   \u001b[0m | \u001b[0m 0.09235 \u001b[0m |\n",
      "| \u001b[0m 16      \u001b[0m | \u001b[0m 0.841   \u001b[0m | \u001b[0m 0.09243 \u001b[0m |\n",
      "| \u001b[0m 17      \u001b[0m | \u001b[0m 0.856   \u001b[0m | \u001b[0m 0.1047  \u001b[0m |\n",
      "| \u001b[0m 18      \u001b[0m | \u001b[0m 0.859   \u001b[0m | \u001b[0m 0.1107  \u001b[0m |\n",
      "| \u001b[0m 19      \u001b[0m | \u001b[0m 0.858   \u001b[0m | \u001b[0m 0.1025  \u001b[0m |\n",
      "| \u001b[0m 20      \u001b[0m | \u001b[0m 0.864   \u001b[0m | \u001b[0m 0.105   \u001b[0m |\n",
      "| \u001b[0m 21      \u001b[0m | \u001b[0m 0.865   \u001b[0m | \u001b[0m 0.1051  \u001b[0m |\n",
      "| \u001b[95m 22      \u001b[0m | \u001b[95m 0.866   \u001b[0m | \u001b[95m 0.1053  \u001b[0m |\n",
      "| \u001b[95m 23      \u001b[0m | \u001b[95m 0.873   \u001b[0m | \u001b[95m 0.1055  \u001b[0m |\n",
      "| \u001b[0m 24      \u001b[0m | \u001b[0m 0.854   \u001b[0m | \u001b[0m 0.1057  \u001b[0m |\n",
      "| \u001b[0m 25      \u001b[0m | \u001b[0m 0.872   \u001b[0m | \u001b[0m 0.1059  \u001b[0m |\n",
      "| \u001b[0m 26      \u001b[0m | \u001b[0m 0.861   \u001b[0m | \u001b[0m 0.1061  \u001b[0m |\n",
      "| \u001b[0m 27      \u001b[0m | \u001b[0m 0.86    \u001b[0m | \u001b[0m 0.1063  \u001b[0m |\n",
      "| \u001b[0m 28      \u001b[0m | \u001b[0m 0.869   \u001b[0m | \u001b[0m 0.1065  \u001b[0m |\n",
      "| \u001b[0m 29      \u001b[0m | \u001b[0m 0.866   \u001b[0m | \u001b[0m 0.1068  \u001b[0m |\n",
      "| \u001b[0m 30      \u001b[0m | \u001b[0m 0.862   \u001b[0m | \u001b[0m 0.107   \u001b[0m |\n",
      "| \u001b[0m 31      \u001b[0m | \u001b[0m 0.843   \u001b[0m | \u001b[0m 0.1072  \u001b[0m |\n",
      "| \u001b[95m 32      \u001b[0m | \u001b[95m 0.875   \u001b[0m | \u001b[95m 0.1027  \u001b[0m |\n",
      "| \u001b[0m 33      \u001b[0m | \u001b[0m 0.869   \u001b[0m | \u001b[0m 0.1029  \u001b[0m |\n",
      "| \u001b[0m 34      \u001b[0m | \u001b[0m 0.857   \u001b[0m | \u001b[0m 0.1032  \u001b[0m |\n",
      "| \u001b[0m 35      \u001b[0m | \u001b[0m 0.875   \u001b[0m | \u001b[0m 0.1034  \u001b[0m |\n",
      "| \u001b[0m 36      \u001b[0m | \u001b[0m 0.86    \u001b[0m | \u001b[0m 0.1036  \u001b[0m |\n",
      "| \u001b[0m 37      \u001b[0m | \u001b[0m 0.851   \u001b[0m | \u001b[0m 0.1039  \u001b[0m |\n",
      "| \u001b[0m 38      \u001b[0m | \u001b[0m 0.837   \u001b[0m | \u001b[0m 0.1041  \u001b[0m |\n",
      "| \u001b[0m 39      \u001b[0m | \u001b[0m 0.84    \u001b[0m | \u001b[0m 0.1044  \u001b[0m |\n",
      "| \u001b[0m 40      \u001b[0m | \u001b[0m 0.865   \u001b[0m | \u001b[0m 0.1075  \u001b[0m |\n",
      "| \u001b[0m 41      \u001b[0m | \u001b[0m 0.857   \u001b[0m | \u001b[0m 0.1077  \u001b[0m |\n",
      "| \u001b[0m 42      \u001b[0m | \u001b[0m 0.858   \u001b[0m | \u001b[0m 0.1021  \u001b[0m |\n",
      "| \u001b[95m 43      \u001b[0m | \u001b[95m 0.876   \u001b[0m | \u001b[95m 0.1018  \u001b[0m |\n",
      "| \u001b[0m 44      \u001b[0m | \u001b[0m 0.866   \u001b[0m | \u001b[0m 0.1016  \u001b[0m |\n",
      "| \u001b[0m 45      \u001b[0m | \u001b[0m 0.864   \u001b[0m | \u001b[0m 0.1014  \u001b[0m |\n",
      "| \u001b[0m 46      \u001b[0m | \u001b[0m 0.856   \u001b[0m | \u001b[0m 0.1011  \u001b[0m |\n",
      "| \u001b[0m 47      \u001b[0m | \u001b[0m 0.864   \u001b[0m | \u001b[0m 0.1009  \u001b[0m |\n",
      "| \u001b[0m 48      \u001b[0m | \u001b[0m 0.862   \u001b[0m | \u001b[0m 0.1006  \u001b[0m |\n"
     ]
    }
   ],
   "source": [
    "from optimizer import optimize_test\n",
    "from SCT import build_pdfs\n",
    "from my_titanlib import my_SCT, my_buddy_check\n",
    "plot=False\n",
    "if plot==True:\n",
    "        plt.figure(figsize=(10,10))\n",
    "\n",
    "        plt.plot(np.linspace(0,1,100),np.linspace(0,1,100), 'k--')\n",
    "\n",
    "        handles, labels = plt.gca().get_legend_handles_labels()\n",
    "        by_label = dict(zip(labels, handles))\n",
    "        plt.legend(by_label.values(), by_label.keys())\n",
    "        \n",
    "best=optimize_test(4242, 'build_pdfs', std=2., plot=False)\n",
    "print(best)\n",
    "acc= calculate_acc(xs, f, build_pdfs(4242)[0],list(best['params'].values())\n",
    ", std=2., n_trials=10000)\n",
    "print(acc)"
   ]
  }
 ],
 "metadata": {
  "kernelspec": {
   "display_name": "Python 3 (ipykernel)",
   "language": "python",
   "name": "python3"
  },
  "language_info": {
   "codemirror_mode": {
    "name": "ipython",
    "version": 3
   },
   "file_extension": ".py",
   "mimetype": "text/x-python",
   "name": "python",
   "nbconvert_exporter": "python",
   "pygments_lexer": "ipython3",
   "version": "3.9.7"
  }
 },
 "nbformat": 4,
 "nbformat_minor": 5
}
