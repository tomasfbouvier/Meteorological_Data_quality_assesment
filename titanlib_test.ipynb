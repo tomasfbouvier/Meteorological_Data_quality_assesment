{
 "cells": [
  {
   "cell_type": "code",
   "execution_count": 1,
   "id": "a3711ddd",
   "metadata": {},
   "outputs": [
    {
     "name": "stdout",
     "output_type": "stream",
     "text": [
      "combined  data1.tar.bz2  NYdata  titanlib_test.ipynb\r\n"
     ]
    }
   ],
   "source": [
    "!ls"
   ]
  },
  {
   "cell_type": "code",
   "execution_count": 13,
   "id": "d0dbdf77",
   "metadata": {},
   "outputs": [
    {
     "name": "stdout",
     "output_type": "stream",
     "text": [
      "        station           timestamp     min      max      file_type\n",
      "0        4201.0 1997-06-10 00:00:00  1008.7  1012.45  data/combined\n",
      "1        4201.0 1997-06-10 01:00:00  1009.0  1012.76  data/combined\n",
      "2        4201.0 1997-06-10 02:00:00  1009.2  1012.96  data/combined\n",
      "3        4201.0 1997-06-10 03:00:00  1009.2  1012.98  data/combined\n",
      "4        4201.0 1997-06-10 04:00:00  1009.5  1013.28  data/combined\n",
      "...         ...                 ...     ...      ...            ...\n",
      "197599   6193.0 1997-06-28 09:00:00  1007.3  1008.60    data/NYdata\n",
      "197600   6193.0 1997-06-28 12:00:00  1008.3  1009.60    data/NYdata\n",
      "197601   6193.0 1997-06-28 15:00:00  1010.1  1011.40    data/NYdata\n",
      "197602   6193.0 1997-06-28 18:00:00  1011.4  1012.70    data/NYdata\n",
      "197603   6193.0 1997-06-28 21:00:00  1012.6  1013.90    data/NYdata\n",
      "\n",
      "[197604 rows x 5 columns]\n"
     ]
    }
   ],
   "source": [
    "import os\n",
    "import numpy as np\n",
    "import pandas as pd\n",
    "\n",
    "\n",
    "\n",
    "df=pd.DataFrame();\n",
    "def Create_df(name):\n",
    "    \n",
    "    \n",
    "    df= pd.DataFrame(np.loadtxt(name), columns=['station','timestamp','min', 'max'])\n",
    "    df['timestamp'] = pd.to_datetime(df['timestamp'], format='%Y%m%d%H%M')\n",
    "    #df.describe()\n",
    "    #df['station'].unique()\n",
    "    df['file_type']= dirname\n",
    "\n",
    "    #print(df)\n",
    "\n",
    "    return df\n",
    "\n",
    "for dirname, _, filenames in os.walk('data'):\n",
    "    for filename in filenames:\n",
    "        if 'Press' in filename:\n",
    "            #print(dirname+filename)\n",
    "            df2=Create_df(str(dirname+'/'+filename))\n",
    "            df=df.append(df2, ignore_index=True)\n",
    "\n",
    "        \n",
    "df['min']=df['min'].replace(0, np.nan)        \n",
    "df['max']=df['max'].replace(0, np.nan) \n",
    "\n",
    "print(df)\n",
    "\n"
   ]
  },
  {
   "cell_type": "code",
   "execution_count": 14,
   "id": "23c76f9d",
   "metadata": {},
   "outputs": [
    {
     "name": "stdout",
     "output_type": "stream",
     "text": [
      "[4201. 4202. 4203. 4207. 4208. 4210. 4214. 4217. 4220. 4221. 4228. 4230.\n",
      " 4231. 4242. 4250. 4253. 4260. 4261. 4266. 4270. 4272. 4285. 4301. 4310.\n",
      " 4312. 4313. 4320. 4330. 4339. 4351. 4360. 4382. 4390. 5700. 6005. 6009.\n",
      " 6010. 6011. 6024. 6030. 6034. 6041. 6043. 6048. 6052. 6058. 6060. 6070.\n",
      " 6071. 6075. 6079. 6080. 6081. 6096. 6100. 6104. 6108. 6110. 6119. 6120.\n",
      " 6124. 6142. 6143. 6149. 6151. 6153. 6159. 6160. 6165. 6168. 6169. 6170.\n",
      " 6180. 6181. 6184. 6190. 6191. 6193.]\n"
     ]
    }
   ],
   "source": [
    "df_true= df[df['file_type']=='data/Carra']\n",
    "df=df[df['file_type']=='data/combined']\n",
    "print(df['station'].unique())"
   ]
  },
  {
   "cell_type": "code",
   "execution_count": 21,
   "id": "4e22f600",
   "metadata": {},
   "outputs": [
    {
     "name": "stdout",
     "output_type": "stream",
     "text": [
      "[8.624448e+17 8.624484e+17 8.624520e+17 ... 8.677044e+17 8.677080e+17\n",
      " 8.677116e+17]\n"
     ]
    }
   ],
   "source": [
    "from scipy.interpolate import interp1d\n",
    "def create_sets(station, df=df):\n",
    "    \"\"\"\n",
    "    Parameters\n",
    "    ----------\n",
    "        - station: Station ID used for computation\n",
    "        - df: dataframe from which the data has to be queried\n",
    "        \n",
    "    Outputs\n",
    "    -------\n",
    "        - x: Time stamps of the station \n",
    "        - f: Cubic spline closure to get the y value by interpolation at any given time.  \n",
    "    \"\"\"\n",
    "    df2=df[df['station']==station]\n",
    "\n",
    "    x=df2['timestamp']\n",
    "    y=df2['max']\n",
    "\n",
    "    x = x.to_numpy('float64')\n",
    "    y = y.to_numpy('float64')\n",
    "\n",
    "    X = np.array([x,y])\n",
    "    X= X.T\n",
    "    X=X[X[:, 0].argsort()]\n",
    "    x= X[:,0]\n",
    "    y= X[:,1]\n",
    "\n",
    "    f= interp1d(x, y, kind='cubic', fill_value='extrapolate' )\n",
    "    \n",
    "    return x,f\n",
    "\n",
    "x,f= create_sets(6096)\n",
    "\n",
    "print(x)"
   ]
  },
  {
   "cell_type": "code",
   "execution_count": 77,
   "id": "e6f497ae",
   "metadata": {},
   "outputs": [
    {
     "name": "stdout",
     "output_type": "stream",
     "text": [
      "     station        init         end      lat     lon  height\n",
      "10      5330  19860401.0  20021231.0  56.0636  9.1490    58.0\n",
      "11      5430  19860401.0  19990430.0  55.6980  8.5555    23.0\n",
      "294     5192  19790101.0  20131116.0  56.1603  9.5589    26.0\n",
      "297     5195  20090825.0  20991231.0  56.1010  9.5530    92.0\n",
      "298     5199  20130917.0  20991231.0  56.0761  9.3298    85.0\n",
      "..       ...         ...         ...      ...     ...     ...\n",
      "771     6109  19860100.0  20020424.0  55.4715  9.1124    62.0\n",
      "773     6110  19530101.0  19850116.0  55.2252  9.2641    41.0\n",
      "776     6113  19810901.0  20010101.0  55.1796  9.0711    48.0\n",
      "777     6115  19610101.0  19741201.0  54.9073  8.8331     1.0\n",
      "779     6116  19840905.0  19880624.0  54.8987  9.1230    15.0\n",
      "\n",
      "[75 rows x 6 columns]\n"
     ]
    },
    {
     "name": "stderr",
     "output_type": "stream",
     "text": [
      "/tmp/ipykernel_33389/499121237.py:17: UserWarning: Boolean Series key will be reindexed to match DataFrame index.\n",
      "  stations_in_range = df3[df3['lat'] > lat-radius ][df3['lat'] < lat+radius][df3['lon'] < lon+radius][df3['lon'] > lon-radius]\n"
     ]
    }
   ],
   "source": [
    "def divide(x):\n",
    "    return int(x/100)\n",
    "\n",
    "df3= pd.DataFrame(np.loadtxt('data/SynopFrIngres'),columns=['station', 'init', 'end', 'lat', 'lon', 'height'])\n",
    "\n",
    "df3['station']= df3['station'].apply(divide)\n",
    "df3= df3.drop_duplicates(subset='station')\n",
    "#positions= df3[['lat', 'lon']].values\n",
    "\n",
    "# TODO: remove drop duplicates and find a solution for updating the position of the stations dynamically\n",
    "\n",
    "\n",
    "def get_stations(station, radius):\n",
    "        \n",
    "    lon= df3[df3['station']==station]['lon'].to_numpy()[0]\n",
    "    lat= df3[df3['station']==station]['lat'].to_numpy()[0]    \n",
    "    stations_in_range = df3[df3['lat'] > lat-radius ][df3['lat'] < lat+radius][df3['lon'] < lon+radius][df3['lon'] > lon-radius]\n",
    "    return stations_in_range\n",
    "    \n",
    "    \n",
    "print(get_stations(6096, 1)\n",
    "      \n",
    "def prepare_test(station):\n",
    "      surrounds=get_stations(6096, 1)\n",
    "      for sation in surrounds['station']\n",
    "#TODO tomorrow: get stations in a certain range and perform the test. Wrap up into a function that focuses on one single station \n",
    "\n"
   ]
  },
  {
   "cell_type": "code",
   "execution_count": 6,
   "id": "405ed32e",
   "metadata": {},
   "outputs": [
    {
     "ename": "NameError",
     "evalue": "name 'points' is not defined",
     "output_type": "error",
     "traceback": [
      "\u001b[0;31m---------------------------------------------------------------------------\u001b[0m",
      "\u001b[0;31mNameError\u001b[0m                                 Traceback (most recent call last)",
      "\u001b[0;32m/tmp/ipykernel_29288/2300476277.py\u001b[0m in \u001b[0;36m<module>\u001b[0;34m\u001b[0m\n\u001b[1;32m      5\u001b[0m \u001b[0mnum_iterations\u001b[0m \u001b[0;34m=\u001b[0m \u001b[0;36m5\u001b[0m\u001b[0;34m\u001b[0m\u001b[0;34m\u001b[0m\u001b[0m\n\u001b[1;32m      6\u001b[0m \u001b[0;34m\u001b[0m\u001b[0m\n\u001b[0;32m----> 7\u001b[0;31m \u001b[0mflags\u001b[0m \u001b[0;34m=\u001b[0m \u001b[0mtitanlib\u001b[0m\u001b[0;34m.\u001b[0m\u001b[0mbuddy_check\u001b[0m\u001b[0;34m(\u001b[0m\u001b[0mpoints\u001b[0m\u001b[0;34m,\u001b[0m \u001b[0mtemp_obs\u001b[0m\u001b[0;34m,\u001b[0m \u001b[0mradius\u001b[0m\u001b[0;34m,\u001b[0m \u001b[0mnum_min\u001b[0m\u001b[0;34m,\u001b[0m\u001b[0mthreshold\u001b[0m\u001b[0;34m,\u001b[0m \u001b[0mmax_elev_diff\u001b[0m\u001b[0;34m,\u001b[0m \u001b[0melev_gradient\u001b[0m\u001b[0;34m,\u001b[0m \u001b[0mmin_std\u001b[0m\u001b[0;34m,\u001b[0m \u001b[0mnum_iterations\u001b[0m\u001b[0;34m)\u001b[0m\u001b[0;34m\u001b[0m\u001b[0;34m\u001b[0m\u001b[0m\n\u001b[0m\u001b[1;32m      8\u001b[0m \u001b[0;34m\u001b[0m\u001b[0m\n",
      "\u001b[0;31mNameError\u001b[0m: name 'points' is not defined"
     ]
    }
   ],
   "source": [
    "threshold = 2\n",
    "max_elev_diff = 200\n",
    "elev_gradient = -0.0065\n",
    "min_std = 1\n",
    "num_iterations = 5\n",
    "\n",
    "flags = titanlib.buddy_check(points, temp_obs, radius, num_min,threshold, max_elev_diff, elev_gradient, min_std, num_iterations)\n",
    "\n"
   ]
  }
 ],
 "metadata": {
  "kernelspec": {
   "display_name": "Python 3 (ipykernel)",
   "language": "python",
   "name": "python3"
  },
  "language_info": {
   "codemirror_mode": {
    "name": "ipython",
    "version": 3
   },
   "file_extension": ".py",
   "mimetype": "text/x-python",
   "name": "python",
   "nbconvert_exporter": "python",
   "pygments_lexer": "ipython3",
   "version": "3.9.7"
  }
 },
 "nbformat": 4,
 "nbformat_minor": 5
}
